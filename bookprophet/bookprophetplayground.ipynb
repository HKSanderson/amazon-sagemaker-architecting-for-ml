{
 "cells": [
  {
   "cell_type": "code",
   "execution_count": 1,
   "metadata": {},
   "outputs": [
    {
     "name": "stdout",
     "output_type": "stream",
     "text": [
      "arn:aws:iam::023375022819:role/service-role/AmazonSageMaker-ExecutionRole-20181029T121824\n",
      "crazycurlygirlbucket311\n"
     ]
    }
   ],
   "source": [
    "import sagemaker\n",
    "from sagemaker import get_execution_role\n",
    "import json\n",
    "import boto3\n",
    "\n",
    "sess = sagemaker.Session()\n",
    "\n",
    "role = get_execution_role()\n",
    "print(role) # This is the role that SageMaker would use to leverage AWS resources (S3, CloudWatch) on your behalf\n",
    "\n",
    "bucket = 'crazycurlygirlbucket311' # Replace with your own bucket name if needed\n",
    "print(bucket)\n",
    "prefix = 'blazingtext/bookprophet' #Replace with the prefix under which you want to store the data if needed"
   ]
  },
  {
   "cell_type": "code",
   "execution_count": 2,
   "metadata": {},
   "outputs": [
    {
     "name": "stdout",
     "output_type": "stream",
     "text": [
      "--2019-03-12 21:41:09--  https://etc.usf.edu/lit2go/audio/mp3/the-merchant-of-venice-005-merchant-of-venice-act-2-scene-1.589.mp3\n",
      "Resolving etc.usf.edu (etc.usf.edu)... 131.247.120.45\n",
      "Connecting to etc.usf.edu (etc.usf.edu)|131.247.120.45|:443... connected.\n",
      "HTTP request sent, awaiting response... 200 OK\n",
      "Length: 2744761 (2.6M) [audio/mpeg]\n",
      "Saving to: ‘the-merchant-of-venice-005-merchant-of-venice-act-2-scene-1.589.mp3’\n",
      "\n",
      "the-merchant-of-ven 100%[===================>]   2.62M  5.96MB/s    in 0.4s    \n",
      "\n",
      "2019-03-12 21:41:10 (5.96 MB/s) - ‘the-merchant-of-venice-005-merchant-of-venice-act-2-scene-1.589.mp3’ saved [2744761/2744761]\n",
      "\n"
     ]
    }
   ],
   "source": [
    "# get the file\n",
    "!wget https://etc.usf.edu/lit2go/audio/mp3/the-merchant-of-venice-005-merchant-of-venice-act-2-scene-1.589.mp3"
   ]
  },
  {
   "cell_type": "code",
   "execution_count": 4,
   "metadata": {},
   "outputs": [
    {
     "data": {
      "text/plain": [
       "'s3://crazycurlygirlbucket311/blazingtext/bookprophet/the-merchant-of-venice-005-merchant-of-venice-act-2-scene-1.589.mp3'"
      ]
     },
     "execution_count": 4,
     "metadata": {},
     "output_type": "execute_result"
    }
   ],
   "source": [
    "# save to S3\n",
    "sess.upload_data(path='the-merchant-of-venice-005-merchant-of-venice-act-2-scene-1.589.mp3', bucket=bucket, key_prefix=prefix)\n",
    "\n"
   ]
  },
  {
   "cell_type": "code",
   "execution_count": null,
   "metadata": {},
   "outputs": [],
   "source": []
  }
 ],
 "metadata": {
  "kernelspec": {
   "display_name": "conda_python3",
   "language": "python",
   "name": "conda_python3"
  },
  "language_info": {
   "codemirror_mode": {
    "name": "ipython",
    "version": 3
   },
   "file_extension": ".py",
   "mimetype": "text/x-python",
   "name": "python",
   "nbconvert_exporter": "python",
   "pygments_lexer": "ipython3",
   "version": "3.6.5"
  }
 },
 "nbformat": 4,
 "nbformat_minor": 2
}
