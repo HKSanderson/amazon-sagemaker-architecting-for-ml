{
 "cells": [
  {
   "cell_type": "code",
   "execution_count": 101,
   "metadata": {},
   "outputs": [],
   "source": [
    "import pandas as pd\n",
    "import numpy as np\n",
    "from nltk import sent_tokenize\n",
    "import json\n",
    "from random import shuffle"
   ]
  },
  {
   "cell_type": "code",
   "execution_count": 94,
   "metadata": {},
   "outputs": [],
   "source": [
    "def readtranscripttolist(file_name, author):\n",
    "    infile = open(file_name)\n",
    "    inputfile = json.load(infile)\n",
    "    text_blob = inputfile['results']\n",
    "    long_string = str(text_blob['transcripts'])\n",
    "    initial_list = long_string.split('.')\n",
    "    sentences = initial_list[5:-5]\n",
    "    df = pd.DataFrame(sentences)\n",
    "    df['Author']= author\n",
    "    return df"
   ]
  },
  {
   "cell_type": "code",
   "execution_count": 98,
   "metadata": {},
   "outputs": [],
   "source": [
    "#Shakespeare = 0, Dante = 1\n",
    "df1 = readtranscripttolist('merchant1.json', 0)\n",
    "df2 = readtranscripttolist('merchant2.json', 0)\n",
    "df3 = readtranscripttolist('divine1.json', 1)\n",
    "df4 = readtranscripttolist('divine2.json', 1)\n"
   ]
  },
  {
   "cell_type": "code",
   "execution_count": 99,
   "metadata": {},
   "outputs": [],
   "source": [
    "data = pd.concat([df1,df2,df3,df4], 0)"
   ]
  },
  {
   "cell_type": "code",
   "execution_count": 106,
   "metadata": {},
   "outputs": [],
   "source": [
    "data = data.sample(frac = 1).reset_index(drop=True)"
   ]
  },
  {
   "cell_type": "code",
   "execution_count": 107,
   "metadata": {},
   "outputs": [
    {
     "name": "stdout",
     "output_type": "stream",
     "text": [
      "                                                     0  Author\n",
      "0     Fatigue is felt by me and walking, he answere...       1\n",
      "1     But alas, the while of Hercules and like us, ...       0\n",
      "2     And Guido di Castel, who better named, is in ...       1\n",
      "3               Envy doth ply the bellows to your size       1\n",
      "4     I know not but truly tis fit the name of such...       1\n",
      "5     Do thou lead us? Said he as one within here s...       1\n",
      "6         And this I've said that it may give the pain       1\n",
      "7                         Antonio, as I heard in Genoa       0\n",
      "8               Or in that one, cordage twists another       1\n",
      "9                 He hath disgraced me and hindered me       0\n",
      "10                                  Tow us from behind       1\n",
      "11                     Here comes another of the tribe       0\n",
      "12                              If guide or reined her       1\n",
      "13                        The Prince of Morocco speaks       0\n",
      "14    They're in a terrible throng of serpents and ...       1\n",
      "15             They had reached the hill right over us       1\n",
      "16    What shall we do to those who wish us ill if ...       1\n",
      "17               He has breast directed, not otherwise       1\n",
      "18                            I never felt it till now       0\n",
      "19                    But what? Lights on my shoulders       0\n",
      "20                                           Sustained       1\n",
      "21                               So much already there       1\n",
      "22                             I thank the good double       0\n",
      "23    Oh, everlastingly fatiguing mantle again we t...       1\n",
      "24                              They feared no cunning       1\n",
      "25    But at there aspect which no lesson floors an...       1\n",
      "26    At these years, I say my daughter is my flesh...       0\n",
      "27    End of Kanto fourteen purgatory O canto fifte...       1\n",
      "28    The lashes of the scorch, the bridle of anoth...       1\n",
      "29    And when the barrier had disappeared, he turn...       1\n",
      "..                                                 ...     ...\n",
      "621   They love there, and as a mirror, one reflect...       1\n",
      "622                       No tears, but of my shedding       0\n",
      "623                One who degenerating can obscure it       1\n",
      "624   And he replied, It was Freiburg, Amita If Col...       1\n",
      "625   Every original aspect there was cancelled, to...       1\n",
      "626                                   Kill him and him       1\n",
      "627   As far as ever, I could stretch against the s...       1\n",
      "628                               Downcast and abashed       1\n",
      "629   Still, we arrived at length upon the point wh...       1\n",
      "630   How now to ball What? The news from General h...       0\n",
      "631                 No revenge nor no in luck stirring       0\n",
      "632   Not yet he finished rendering such opinion wh...       1\n",
      "633   And I beheld another with those waters it dow...       1\n",
      "634         And virgins of our clime have loved it too       0\n",
      "635   Who was speaking? I was spent downward, but m...       1\n",
      "636          As I heard in one night for school ducats       0\n",
      "637   How different of these entrances from the inf...       1\n",
      "638   But for short space for smallest, the offense...       1\n",
      "639   A sudden intercessor was the heat, but nevert...       1\n",
      "640   If thou dive, I will not follow the upon the ...       1\n",
      "641   By reason of the fraudulent theft he made of ...       1\n",
      "642   Half a million laughed at my losses, Mocked a...       0\n",
      "643   End of Kanto thirteen purgatory o canto fourteen       1\n",
      "644     I pledge to thee to do what thou dos tasked me       1\n",
      "645                 He answered me for speaking Tuscan       1\n",
      "646   I already feel them and he If I were made of ...       1\n",
      "647   And if smoke prevent are seeing, hearing shal...       1\n",
      "648   Then I domestic was of good King doubled and ...       1\n",
      "649   If you desire either to see or hear the terro...       1\n",
      "650   Tis who comes to invite us upward soon Will i...       1\n",
      "\n",
      "[651 rows x 2 columns]\n"
     ]
    }
   ],
   "source": [
    "print(data)"
   ]
  },
  {
   "cell_type": "code",
   "execution_count": 112,
   "metadata": {},
   "outputs": [],
   "source": [
    "train=data[:520]\n",
    "test=data[520:]"
   ]
  },
  {
   "cell_type": "code",
   "execution_count": 116,
   "metadata": {},
   "outputs": [],
   "source": [
    "train.to_csv(\"bookprophet.train\")\n",
    "test.to_csv(\"bookprohpet.validation\")"
   ]
  },
  {
   "cell_type": "code",
   "execution_count": null,
   "metadata": {},
   "outputs": [],
   "source": []
  }
 ],
 "metadata": {
  "kernelspec": {
   "display_name": "conda_python3",
   "language": "python",
   "name": "conda_python3"
  },
  "language_info": {
   "codemirror_mode": {
    "name": "ipython",
    "version": 3
   },
   "file_extension": ".py",
   "mimetype": "text/x-python",
   "name": "python",
   "nbconvert_exporter": "python",
   "pygments_lexer": "ipython3",
   "version": "3.6.5"
  }
 },
 "nbformat": 4,
 "nbformat_minor": 2
}
