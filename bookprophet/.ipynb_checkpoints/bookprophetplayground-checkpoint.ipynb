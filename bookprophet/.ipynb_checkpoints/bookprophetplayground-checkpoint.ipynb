{
 "cells": [
  {
   "cell_type": "markdown",
   "metadata": {},
   "source": [
    "Title: Books on Tape - Author Classification from Dante and Shakespeare\n",
    "\n",
    "Given a line from either Shakespeare or Dante, we will train a machine learning model that will accurately predict the author.\n",
    "\n",
    "We will investigate three candidate models and compare their performance: Amazon’s BlazingText, Naive Bayes, and KNeighbors.\n",
    "\n",
    "We have chosen two scenes from the Merchant of Venice by William Shakespeare and two scenes from the Divine Comedy by Dante Alighieri. These scenes will be transcribed using Amazon Transcribe. Word transcription data will then be processed and cleaned. Transcriptions with low confidence will be evaluated for removal. Data will then be explored and formatted.\n",
    "\n",
    "Formatted data will be used to train models and features selected. A second set of data will be chosen for and processed for validation. Each model’s performance will be evaluated and compared.\n",
    "\n",
    "Questions we are now considering/ Interesting thoughts:\n",
    "1. How well can Amazon Transcribe transcribe the unique language of Shakespeare? Will transcriptions with low confidence turn out to be revealing language for classifying authors?\n",
    "2. Shakespeare is written in iambic pentameter. Dante is originally written in Terza Rima and often translated into iambic pentameter. Is meter a revealing feature for author classification?  Can meter be used as a feature?\n",
    "3. Features of interest - words common by one author or another; uniqueness as a feature; clusters of words; semantics as a feature - Dante will have a lot of “fiery, hell, burning”"
   ]
  },
  {
   "cell_type": "code",
   "execution_count": 3,
   "metadata": {},
   "outputs": [
    {
     "name": "stdout",
     "output_type": "stream",
     "text": [
      "arn:aws:iam::023375022819:role/service-role/AmazonSageMaker-ExecutionRole-20181029T121824\n",
      "crazycurlygirlbucket311\n"
     ]
    }
   ],
   "source": [
    "import sagemaker\n",
    "from sagemaker import get_execution_role\n",
    "import json\n",
    "import boto3\n",
    "\n",
    "sess = sagemaker.Session()\n",
    "\n",
    "role = get_execution_role()\n",
    "print(role) # This is the role that SageMaker would use to leverage AWS resources (S3, CloudWatch) on your behalf\n",
    "\n",
    "bucket = 'crazycurlygirlbucket311' # Replace with your own bucket name if needed\n",
    "print(bucket)\n",
    "prefix = 'BookProphet' #Replace with the prefix under which you want to store the data if needed"
   ]
  },
  {
   "cell_type": "code",
   "execution_count": 7,
   "metadata": {},
   "outputs": [
    {
     "name": "stdout",
     "output_type": "stream",
     "text": [
      "--2019-03-13 16:05:47--  https://etc.usf.edu/lit2go/audio/mp3/the-merchant-of-venice-005-merchant-of-venice-act-2-scene-1.589.mp3\n",
      "Resolving etc.usf.edu (etc.usf.edu)... 131.247.120.45\n",
      "Connecting to etc.usf.edu (etc.usf.edu)|131.247.120.45|:443... connected.\n",
      "HTTP request sent, awaiting response... 200 OK\n",
      "Length: 2744761 (2.6M) [audio/mpeg]\n",
      "Saving to: ‘the-merchant-of-venice-005-merchant-of-venice-act-2-scene-1.589.mp3.2’\n",
      "\n",
      "the-merchant-of-ven 100%[===================>]   2.62M  6.48MB/s    in 0.4s    \n",
      "\n",
      "2019-03-13 16:05:48 (6.48 MB/s) - ‘the-merchant-of-venice-005-merchant-of-venice-act-2-scene-1.589.mp3.2’ saved [2744761/2744761]\n",
      "\n",
      "--2019-03-13 16:05:48--  https://etc.usf.edu/lit2go/audio/mp3/the-merchant-of-venice-014-merchant-of-venice-act-3-scene-1.600.mp3\n",
      "Resolving etc.usf.edu (etc.usf.edu)... 131.247.120.45\n",
      "Connecting to etc.usf.edu (etc.usf.edu)|131.247.120.45|:443... connected.\n",
      "HTTP request sent, awaiting response... 200 OK\n",
      "Length: 6927279 (6.6M) [audio/mpeg]\n",
      "Saving to: ‘the-merchant-of-venice-014-merchant-of-venice-act-3-scene-1.600.mp3’\n",
      "\n",
      "the-merchant-of-ven 100%[===================>]   6.61M  11.2MB/s    in 0.6s    \n",
      "\n",
      "2019-03-13 16:05:49 (11.2 MB/s) - ‘the-merchant-of-venice-014-merchant-of-venice-act-3-scene-1.600.mp3’ saved [6927279/6927279]\n",
      "\n",
      "--2019-03-13 16:05:49--  http://www.archive.org/download/divine_comedy_librivox/divinecomedy_longfellow_05_dante.mp3\n",
      "Resolving www.archive.org (www.archive.org)... 207.241.224.2\n",
      "Connecting to www.archive.org (www.archive.org)|207.241.224.2|:80... connected.\n",
      "HTTP request sent, awaiting response... 302 Moved Temporarily\n",
      "Location: http://archive.org/download/divine_comedy_librivox/divinecomedy_longfellow_05_dante.mp3 [following]\n",
      "--2019-03-13 16:05:49--  http://archive.org/download/divine_comedy_librivox/divinecomedy_longfellow_05_dante.mp3\n",
      "Resolving archive.org (archive.org)... 207.241.224.2\n",
      "Reusing existing connection to www.archive.org:80.\n",
      "HTTP request sent, awaiting response... 302 Found\n",
      "Location: http://ia800201.us.archive.org/3/items/divine_comedy_librivox/divinecomedy_longfellow_05_dante.mp3 [following]\n",
      "--2019-03-13 16:05:49--  http://ia800201.us.archive.org/3/items/divine_comedy_librivox/divinecomedy_longfellow_05_dante.mp3\n",
      "Resolving ia800201.us.archive.org (ia800201.us.archive.org)... 207.241.230.21\n",
      "Connecting to ia800201.us.archive.org (ia800201.us.archive.org)|207.241.230.21|:80... connected.\n",
      "HTTP request sent, awaiting response... 200 OK\n",
      "Length: 33993310 (32M) [audio/mpeg]\n",
      "Saving to: ‘divinecomedy_longfellow_05_dante.mp3’\n",
      "\n",
      "divinecomedy_longfe 100%[===================>]  32.42M  4.39MB/s    in 5.0s    \n",
      "\n",
      "2019-03-13 16:05:54 (6.54 MB/s) - ‘divinecomedy_longfellow_05_dante.mp3’ saved [33993310/33993310]\n",
      "\n",
      "--2019-03-13 16:05:55--  http://www.archive.org/download/divine_comedy_librivox/divinecomedy_longfellow_10_dante.mp3\n",
      "Resolving www.archive.org (www.archive.org)... 207.241.224.2\n",
      "Connecting to www.archive.org (www.archive.org)|207.241.224.2|:80... connected.\n",
      "HTTP request sent, awaiting response... 302 Moved Temporarily\n",
      "Location: http://archive.org/download/divine_comedy_librivox/divinecomedy_longfellow_10_dante.mp3 [following]\n",
      "--2019-03-13 16:05:55--  http://archive.org/download/divine_comedy_librivox/divinecomedy_longfellow_10_dante.mp3\n",
      "Resolving archive.org (archive.org)... 207.241.224.2\n",
      "Reusing existing connection to www.archive.org:80.\n",
      "HTTP request sent, awaiting response... 302 Found\n",
      "Location: http://ia800201.us.archive.org/3/items/divine_comedy_librivox/divinecomedy_longfellow_10_dante.mp3 [following]\n",
      "--2019-03-13 16:05:55--  http://ia800201.us.archive.org/3/items/divine_comedy_librivox/divinecomedy_longfellow_10_dante.mp3\n",
      "Resolving ia800201.us.archive.org (ia800201.us.archive.org)... 207.241.230.21\n",
      "Connecting to ia800201.us.archive.org (ia800201.us.archive.org)|207.241.230.21|:80... connected.\n",
      "HTTP request sent, awaiting response... 200 OK\n",
      "Length: 31922478 (30M) [audio/mpeg]\n",
      "Saving to: ‘divinecomedy_longfellow_10_dante.mp3’\n",
      "\n",
      "divinecomedy_longfe 100%[===================>]  30.44M  1.37MB/s    in 30s     \n",
      "\n",
      "2019-03-13 16:06:25 (1.03 MB/s) - ‘divinecomedy_longfellow_10_dante.mp3’ saved [31922478/31922478]\n",
      "\n"
     ]
    }
   ],
   "source": [
    "# get the files\n",
    "!wget https://etc.usf.edu/lit2go/audio/mp3/the-merchant-of-venice-005-merchant-of-venice-act-2-scene-1.589.mp3\n",
    "!wget https://etc.usf.edu/lit2go/audio/mp3/the-merchant-of-venice-014-merchant-of-venice-act-3-scene-1.600.mp3\n",
    "!wget http://www.archive.org/download/divine_comedy_librivox/divinecomedy_longfellow_05_dante.mp3\n",
    "!wget http://www.archive.org/download/divine_comedy_librivox/divinecomedy_longfellow_10_dante.mp3\n",
    "     "
   ]
  },
  {
   "cell_type": "code",
   "execution_count": 8,
   "metadata": {},
   "outputs": [
    {
     "data": {
      "text/plain": [
       "'s3://crazycurlygirlbucket311/BookProphet/MP3Files/divinecomedy_longfellow_10_dante.mp3'"
      ]
     },
     "execution_count": 8,
     "metadata": {},
     "output_type": "execute_result"
    }
   ],
   "source": [
    "# save to S3\n",
    "MP3Location = prefix + '/MP3Files'\n",
    "\n",
    "sess.upload_data(path='the-merchant-of-venice-005-merchant-of-venice-act-2-scene-1.589.mp3', bucket=bucket, key_prefix=MP3Location)\n",
    "sess.upload_data(path='the-merchant-of-venice-014-merchant-of-venice-act-3-scene-1.600.mp3', bucket=bucket, key_prefix=MP3Location)\n",
    "sess.upload_data(path='divinecomedy_longfellow_05_dante.mp3', bucket=bucket, key_prefix=MP3Location)\n",
    "sess.upload_data(path='divinecomedy_longfellow_10_dante.mp3', bucket=bucket, key_prefix=MP3Location)\n",
    "\n"
   ]
  },
  {
   "cell_type": "code",
   "execution_count": 14,
   "metadata": {},
   "outputs": [
    {
     "name": "stdout",
     "output_type": "stream",
     "text": [
      "Not ready yet...\n",
      "Not ready yet...\n",
      "Not ready yet...\n",
      "Not ready yet...\n",
      "Not ready yet...\n",
      "Not ready yet...\n",
      "Not ready yet...\n",
      "Not ready yet...\n",
      "Not ready yet...\n",
      "Not ready yet...\n",
      "Not ready yet...\n",
      "Not ready yet...\n",
      "Not ready yet...\n",
      "Not ready yet...\n",
      "Not ready yet...\n",
      "Not ready yet...\n",
      "Not ready yet...\n",
      "Not ready yet...\n",
      "Not ready yet...\n",
      "Not ready yet...\n",
      "Not ready yet...\n",
      "Not ready yet...\n",
      "Not ready yet...\n",
      "Not ready yet...\n",
      "Not ready yet...\n",
      "{'TranscriptionJob': {'TranscriptionJobName': 'merchant1again', 'TranscriptionJobStatus': 'COMPLETED', 'LanguageCode': 'en-US', 'MediaSampleRateHertz': 44100, 'MediaFormat': 'mp3', 'Media': {'MediaFileUri': 's3://crazycurlygirlbucket311/BookProphet/MP3Files/the-merchant-of-venice-005-merchant-of-venice-act-2-scene-1.589.mp3'}, 'Transcript': {'TranscriptFileUri': 'https://s3.amazonaws.com/crazycurlygirlbucket311/merchant1again.json'}, 'CreationTime': datetime.datetime(2019, 3, 13, 16, 29, 23, 133000, tzinfo=tzlocal()), 'CompletionTime': datetime.datetime(2019, 3, 13, 16, 31, 25, 745000, tzinfo=tzlocal()), 'Settings': {'ChannelIdentification': False}}, 'ResponseMetadata': {'RequestId': '74db52ee-45ad-11e9-a8d8-e1ea9dfa9ae1', 'HTTPStatusCode': 200, 'HTTPHeaders': {'content-type': 'application/x-amz-json-1.1', 'date': 'Wed, 13 Mar 2019 16:31:30 GMT', 'x-amzn-requestid': '74db52ee-45ad-11e9-a8d8-e1ea9dfa9ae1', 'content-length': '531', 'connection': 'keep-alive'}, 'RetryAttempts': 0}}\n"
     ]
    }
   ],
   "source": [
    "#transcribe first Merchant chapter\n",
    "from __future__ import print_function\n",
    "import time\n",
    "transcribe = boto3.client('transcribe')\n",
    "job_name = \"merchant1\"\n",
    "job_uri = \"s3://crazycurlygirlbucket311/BookProphet/MP3Files/the-merchant-of-venice-005-merchant-of-venice-act-2-scene-1.589.mp3\"\n",
    "output_bucket = \"crazycurlygirlbucket311\"\n",
    "transcribe.start_transcription_job(\n",
    "    TranscriptionJobName=job_name,\n",
    "    Media={'MediaFileUri': job_uri},\n",
    "    MediaFormat='mp3',\n",
    "    LanguageCode='en-US',\n",
    "    OutputBucketName=output_bucket\n",
    ")\n",
    "while True:\n",
    "    status = transcribe.get_transcription_job(TranscriptionJobName=job_name)\n",
    "    if status['TranscriptionJob']['TranscriptionJobStatus'] in ['COMPLETED', 'FAILED']:\n",
    "        break\n",
    "    print(\"Not ready yet...\")\n",
    "    time.sleep(5)\n",
    "print(status)"
   ]
  },
  {
   "cell_type": "code",
   "execution_count": 20,
   "metadata": {},
   "outputs": [
    {
     "name": "stdout",
     "output_type": "stream",
     "text": [
      "{\r\n",
      "    \"TranscriptionJobSummaries\": [\r\n",
      "        {\r\n",
      "            \"TranscriptionJobName\": \"merchant1again\",\r\n",
      "            \"CreationTime\": 1552494563.133,\r\n",
      "            \"CompletionTime\": 1552494685.745,\r\n",
      "            \"LanguageCode\": \"en-US\",\r\n",
      "            \"TranscriptionJobStatus\": \"COMPLETED\",\r\n",
      "            \"OutputLocationType\": \"CUSTOMER_BUCKET\"\r\n",
      "        }\r\n",
      "    ]\r\n",
      "}\r\n"
     ]
    }
   ],
   "source": [
    "!aws transcribe list-transcription-jobs\n"
   ]
  },
  {
   "cell_type": "code",
   "execution_count": 19,
   "metadata": {},
   "outputs": [],
   "source": [
    "!aws transcribe delete-transcription-job --transcription-job-name merchant1"
   ]
  },
  {
   "cell_type": "code",
   "execution_count": null,
   "metadata": {},
   "outputs": [],
   "source": []
  }
 ],
 "metadata": {
  "kernelspec": {
   "display_name": "conda_python3",
   "language": "python",
   "name": "conda_python3"
  },
  "language_info": {
   "codemirror_mode": {
    "name": "ipython",
    "version": 3
   },
   "file_extension": ".py",
   "mimetype": "text/x-python",
   "name": "python",
   "nbconvert_exporter": "python",
   "pygments_lexer": "ipython3",
   "version": "3.6.5"
  }
 },
 "nbformat": 4,
 "nbformat_minor": 2
}
