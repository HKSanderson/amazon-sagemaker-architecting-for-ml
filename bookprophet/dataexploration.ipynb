{
 "cells": [
  {
   "cell_type": "code",
   "execution_count": 43,
   "metadata": {},
   "outputs": [],
   "source": [
    "import pandas as pd\n",
    "import numpy as np\n",
    "from nltk import sent_tokenize\n",
    "import json\n",
    "from random import shuffle"
   ]
  },
  {
   "cell_type": "code",
   "execution_count": 44,
   "metadata": {},
   "outputs": [],
   "source": [
    "def readtranscripttolist(file_name, author):\n",
    "    infile = open(file_name)\n",
    "    inputfile = json.load(infile)\n",
    "    text_blob = inputfile['results']\n",
    "    long_string = str(text_blob['transcripts'])\n",
    "    initial_list = long_string.split('.')\n",
    "    sentences = initial_list[5:-5]\n",
    "    df = pd.DataFrame(sentences)\n",
    "    df['Author']= author\n",
    "    return df"
   ]
  },
  {
   "cell_type": "code",
   "execution_count": 45,
   "metadata": {},
   "outputs": [],
   "source": [
    "#Shakespeare = 0, Dante = 1\n",
    "df1 = readtranscripttolist('merchant1.json', '__label__Shakespeare')\n",
    "df2 = readtranscripttolist('merchant2.json', \"__label__Shakespeare\")\n",
    "df3 = readtranscripttolist('divine1.json', '__label__Dante')\n",
    "df4 = readtranscripttolist('divine2.json', \"__label__Dante\")\n",
    "\n",
    "df5 = readtranscripttolist('rom1.json', '__label__Shakespeare')\n",
    "df6 = readtranscripttolist('rom2.json', \"__label__Shakespeare\")\n",
    "df7 = readtranscripttolist('paradise.json', '__label__Dante')\n"
   ]
  },
  {
   "cell_type": "code",
   "execution_count": 46,
   "metadata": {},
   "outputs": [],
   "source": [
    "data = pd.concat([df1,df2,df3, df4, df5, df6,df7], 0)"
   ]
  },
  {
   "cell_type": "code",
   "execution_count": 47,
   "metadata": {},
   "outputs": [
    {
     "name": "stdout",
     "output_type": "stream",
     "text": [
      "                                                     0                Author\n",
      "0                         The Prince of Morocco speaks  __label__Shakespeare\n",
      "1                                         Miss like me  __label__Shakespeare\n",
      "2                                Not for my complexion  __label__Shakespeare\n",
      "3     The shadowed livery of the burnished sun to w...  __label__Shakespeare\n",
      "4     I tell thee, Lady, this aspect of mine hath f...  __label__Shakespeare\n",
      "5           And virgins of our clime have loved it too  __label__Shakespeare\n",
      "6     I would not change this hue except to steal y...  __label__Shakespeare\n",
      "7     In terms of choice, I am not solely led by ni...  __label__Shakespeare\n",
      "8     Besides, the lottery of my destiny bars me th...  __label__Shakespeare\n",
      "9     But if my father had not scant ID me on hedge...  __label__Shakespeare\n",
      "10                          Even for that, I thank you  __label__Shakespeare\n",
      "11    Therefore, I pray you lead me to the caskets ...  __label__Shakespeare\n",
      "12                                         That's true  __label__Shakespeare\n",
      "13                   The Sophie and the Persian prince  __label__Shakespeare\n",
      "14    That one three fields of salt and Solomon I w...  __label__Shakespeare\n",
      "15         Pluck the young sucking cubs from the Shiba  __label__Shakespeare\n",
      "16    I mark the lion when he rolls for prayed tto ...  __label__Shakespeare\n",
      "17    But alas, the while of Hercules and like us, ...  __label__Shakespeare\n",
      "18    The greater throw may turn by fortune from th...  __label__Shakespeare\n",
      "19                                       So is outside  __label__Shakespeare\n",
      "20                             He's beaten by his page  __label__Shakespeare\n",
      "21    And so may I blind fortune leading me miss th...  __label__Shakespeare\n",
      "22                                           All right  __label__Shakespeare\n",
      "23                           You must take your chance  __label__Shakespeare\n",
      "24    And either not attempt to choose at all or sw...  __label__Shakespeare\n",
      "25    If you choose wrong never to speak to lady af...  __label__Shakespeare\n",
      "26           Therefore be advised nor well, Come, come  __label__Shakespeare\n",
      "27                             Bring me unto my chance  __label__Shakespeare\n",
      "28    First forward to the temple After dinner, you...  __label__Shakespeare\n",
      "0     But it is true without any slips of publicity...  __label__Shakespeare\n",
      "..                                                 ...                   ...\n",
      "227   For it is not knowledge that having heard wit...        __label__Dante\n",
      "228   Not unless complied with and concerning this ...        __label__Dante\n",
      "229   Therefore, it was enjoined upon the Hebrews t...        __label__Dante\n",
      "230   Still, though sometimes what was offered migh...        __label__Dante\n",
      "231   They will indeed be such that one area's not ...        __label__Dante\n",
      "232   Without the turning, both of the white and of...        __label__Dante\n",
      "233   Therefore, whatever thing has so great weight...        __label__Dante\n",
      "234   Be faithful, not blind and doing that as Jeff...        __label__Dante\n",
      "235   I made for her both wise and simple weep who ...        __label__Dante\n",
      "236   Be more serious in your movements, but you're...        __label__Dante\n",
      "237   He had the old and the New Testament and the ...        __label__Dante\n",
      "238                The years men and not a silly sheep        __label__Dante\n",
      "239             So the Jew among you made out Mark you        __label__Dante\n",
      "240   You're not as the land that dot abandon its m...        __label__Dante\n",
      "241   Thus Petrus to me, even as I write it that al...        __label__Dante\n",
      "242   Her silence and her change of countenance sil...        __label__Dante\n",
      "243   My lady there so joyful I beheld as into the ...        __label__Dante\n",
      "244   And if the star itself was changed and smiled...        __label__Dante\n",
      "245                                              Hello        __label__Dante\n",
      "246                This is she shall increase our love        __label__Dante\n",
      "247   And as each one was coming in to us full of b...        __label__Dante\n",
      "248                                      Think, Reiter        __label__Dante\n",
      "249   If what here is just beginning, no father sho...        __label__Dante\n",
      "250   How thou wouldst have an agonizing need of kn...        __label__Dante\n",
      "251   I don't see how I from these was in desire of...        __label__Dante\n",
      "252   My eyes were manifest o thou well born, under...        __label__Dante\n",
      "253          And hence of thou desire is to know of us        __label__Dante\n",
      "254                        Athina own pleasure, Saythe        __label__Dante\n",
      "255   Thus by someone among those holy spirits has ...        __label__Dante\n",
      "256   Well, I perceive how without us nest myself a...        __label__Dante\n",
      "\n",
      "[1683 rows x 2 columns]\n"
     ]
    }
   ],
   "source": [
    "print(data)"
   ]
  },
  {
   "cell_type": "code",
   "execution_count": 48,
   "metadata": {},
   "outputs": [],
   "source": [
    "data = data[data.columns[::-1]]"
   ]
  },
  {
   "cell_type": "code",
   "execution_count": 49,
   "metadata": {},
   "outputs": [
    {
     "name": "stdout",
     "output_type": "stream",
     "text": [
      "                   Author                                                  0\n",
      "0    __label__Shakespeare                       The Prince of Morocco speaks\n",
      "1    __label__Shakespeare                                       Miss like me\n",
      "2    __label__Shakespeare                              Not for my complexion\n",
      "3    __label__Shakespeare   The shadowed livery of the burnished sun to w...\n",
      "4    __label__Shakespeare   I tell thee, Lady, this aspect of mine hath f...\n",
      "5    __label__Shakespeare         And virgins of our clime have loved it too\n",
      "6    __label__Shakespeare   I would not change this hue except to steal y...\n",
      "7    __label__Shakespeare   In terms of choice, I am not solely led by ni...\n",
      "8    __label__Shakespeare   Besides, the lottery of my destiny bars me th...\n",
      "9    __label__Shakespeare   But if my father had not scant ID me on hedge...\n",
      "10   __label__Shakespeare                         Even for that, I thank you\n",
      "11   __label__Shakespeare   Therefore, I pray you lead me to the caskets ...\n",
      "12   __label__Shakespeare                                        That's true\n",
      "13   __label__Shakespeare                  The Sophie and the Persian prince\n",
      "14   __label__Shakespeare   That one three fields of salt and Solomon I w...\n",
      "15   __label__Shakespeare        Pluck the young sucking cubs from the Shiba\n",
      "16   __label__Shakespeare   I mark the lion when he rolls for prayed tto ...\n",
      "17   __label__Shakespeare   But alas, the while of Hercules and like us, ...\n",
      "18   __label__Shakespeare   The greater throw may turn by fortune from th...\n",
      "19   __label__Shakespeare                                      So is outside\n",
      "20   __label__Shakespeare                            He's beaten by his page\n",
      "21   __label__Shakespeare   And so may I blind fortune leading me miss th...\n",
      "22   __label__Shakespeare                                          All right\n",
      "23   __label__Shakespeare                          You must take your chance\n",
      "24   __label__Shakespeare   And either not attempt to choose at all or sw...\n",
      "25   __label__Shakespeare   If you choose wrong never to speak to lady af...\n",
      "26   __label__Shakespeare          Therefore be advised nor well, Come, come\n",
      "27   __label__Shakespeare                            Bring me unto my chance\n",
      "28   __label__Shakespeare   First forward to the temple After dinner, you...\n",
      "0    __label__Shakespeare   But it is true without any slips of publicity...\n",
      "..                    ...                                                ...\n",
      "227        __label__Dante   For it is not knowledge that having heard wit...\n",
      "228        __label__Dante   Not unless complied with and concerning this ...\n",
      "229        __label__Dante   Therefore, it was enjoined upon the Hebrews t...\n",
      "230        __label__Dante   Still, though sometimes what was offered migh...\n",
      "231        __label__Dante   They will indeed be such that one area's not ...\n",
      "232        __label__Dante   Without the turning, both of the white and of...\n",
      "233        __label__Dante   Therefore, whatever thing has so great weight...\n",
      "234        __label__Dante   Be faithful, not blind and doing that as Jeff...\n",
      "235        __label__Dante   I made for her both wise and simple weep who ...\n",
      "236        __label__Dante   Be more serious in your movements, but you're...\n",
      "237        __label__Dante   He had the old and the New Testament and the ...\n",
      "238        __label__Dante                The years men and not a silly sheep\n",
      "239        __label__Dante             So the Jew among you made out Mark you\n",
      "240        __label__Dante   You're not as the land that dot abandon its m...\n",
      "241        __label__Dante   Thus Petrus to me, even as I write it that al...\n",
      "242        __label__Dante   Her silence and her change of countenance sil...\n",
      "243        __label__Dante   My lady there so joyful I beheld as into the ...\n",
      "244        __label__Dante   And if the star itself was changed and smiled...\n",
      "245        __label__Dante                                              Hello\n",
      "246        __label__Dante                This is she shall increase our love\n",
      "247        __label__Dante   And as each one was coming in to us full of b...\n",
      "248        __label__Dante                                      Think, Reiter\n",
      "249        __label__Dante   If what here is just beginning, no father sho...\n",
      "250        __label__Dante   How thou wouldst have an agonizing need of kn...\n",
      "251        __label__Dante   I don't see how I from these was in desire of...\n",
      "252        __label__Dante   My eyes were manifest o thou well born, under...\n",
      "253        __label__Dante          And hence of thou desire is to know of us\n",
      "254        __label__Dante                        Athina own pleasure, Saythe\n",
      "255        __label__Dante   Thus by someone among those holy spirits has ...\n",
      "256        __label__Dante   Well, I perceive how without us nest myself a...\n",
      "\n",
      "[1683 rows x 2 columns]\n"
     ]
    }
   ],
   "source": [
    "print(data)"
   ]
  },
  {
   "cell_type": "code",
   "execution_count": 50,
   "metadata": {},
   "outputs": [],
   "source": [
    "data = data.sample(frac = 1).reset_index(drop=True)"
   ]
  },
  {
   "cell_type": "code",
   "execution_count": 51,
   "metadata": {},
   "outputs": [
    {
     "name": "stdout",
     "output_type": "stream",
     "text": [
      "                    Author                                                  0\n",
      "0     __label__Shakespeare                                           Farewell\n",
      "1     __label__Shakespeare              Alack, The day he's gone, he's killed\n",
      "2           __label__Dante       He, with the cloven tail, assumed the figure\n",
      "3           __label__Dante   Well, I perceive that never sated his our int...\n",
      "4           __label__Dante   Thou shalt hear new sport each to the other side\n",
      "5     __label__Shakespeare                 Capital it! Oh, God! You good, Dan\n",
      "6           __label__Dante   But still that your perception may be ableto ...\n",
      "7     __label__Shakespeare   Will you go to them? I will bring you the oth...\n",
      "8           __label__Dante          This bears away the fire towards the moon\n",
      "9     __label__Shakespeare                                      And Peter too\n",
      "10    __label__Shakespeare   What ho Apothecary! Enter apothecary Apotheca...\n",
      "11    __label__Shakespeare   Either withdraw under some private place and ...\n",
      "12          __label__Dante   Directed me and I began has one who two great...\n",
      "13    __label__Shakespeare   That one three fields of salt and Solomon I w...\n",
      "14    __label__Shakespeare                                    Our Romeo Friar\n",
      "15          __label__Dante                      I gazed, my leader crying out\n",
      "16    __label__Shakespeare   Why should you fall into so deep? An O Romeo ...\n",
      "17    __label__Shakespeare                                   All are punished\n",
      "18          __label__Dante                One who degenerating can obscure it\n",
      "19    __label__Shakespeare               Bring forth the parties of suspicion\n",
      "20    __label__Shakespeare   And here he writes that he did buy a poison o...\n",
      "21          __label__Dante   Pray for us, a cry of Michael, Peter and all ...\n",
      "22          __label__Dante   And if God in his grace has me and folded so ...\n",
      "23          __label__Dante   Upon the everlasting wheels stood Beatrice, a...\n",
      "24          __label__Dante   And if some other thing your love seduce it i...\n",
      "25    __label__Shakespeare    Thy beauty hath made me a feminine in my temper\n",
      "26          __label__Dante   Thou dos modulate and measure then seemed to ...\n",
      "27    __label__Shakespeare   There is thy gold worse poison to men's souls...\n",
      "28          __label__Dante                                               Yeah\n",
      "29    __label__Shakespeare   If thou art fickle, what dust thou with him t...\n",
      "...                    ...                                                ...\n",
      "1653        __label__Dante   If that listen to me, I'll tell these said I ...\n",
      "1654  __label__Shakespeare               Nurse Rodeo can though heaven cannot\n",
      "1655  __label__Shakespeare                          Fear comes upon me o much\n",
      "1656  __label__Shakespeare   But he which bore my letter Friar John was st...\n",
      "1657        __label__Dante   Still, we arrived at length upon the point wh...\n",
      "1658  __label__Shakespeare   She will be shrew me much that Romeo hath no ...\n",
      "1659        __label__Dante   And I under the shade seemed most wishful to ...\n",
      "1660  __label__Shakespeare                   Juliet can haven't be so envious\n",
      "1661        __label__Dante   It suffered to stay open, where at mine escor...\n",
      "1662  __label__Shakespeare   How long has he been there? Baltazar? Full ha...\n",
      "1663        __label__Dante   Where is so pregnant? The Alpine mountain wan...\n",
      "1664  __label__Shakespeare   Juliet, What storm is this that blows so cont...\n",
      "1665        __label__Dante   But now another passage runs across before th...\n",
      "1666  __label__Shakespeare         And virgins of our clime have loved it too\n",
      "1667  __label__Shakespeare   But wherefore villain didst thou kill my cous...\n",
      "1668  __label__Shakespeare                                 I sell thee poison\n",
      "1669  __label__Shakespeare   Heaven is here where Juliet lives and every c...\n",
      "1670  __label__Shakespeare   See what a score just laid upon your hate tha...\n",
      "1671        __label__Dante         And guys the first truth that man believes\n",
      "1672  __label__Shakespeare   How does my lady is my father? Well, how fare...\n",
      "1673        __label__Dante   Do thou lead us? Said he as one within here s...\n",
      "1674        __label__Dante   It was simple and has now made double by that...\n",
      "1675        __label__Dante   So they care binds itself so that fourth, it ...\n",
      "1676  __label__Shakespeare                                All eyes gaze on us\n",
      "1677        __label__Dante         Then they stuck close as if of heated wine\n",
      "1678  __label__Shakespeare                                   End of scene too\n",
      "1679  __label__Shakespeare   It's raise up the Montagues Some other search...\n",
      "1680        __label__Dante                  They had on mantels with the hood\n",
      "1681  __label__Shakespeare   What? Wilt thou wash him from his grave with ...\n",
      "1682  __label__Shakespeare     That curse never fell upon our nation till now\n",
      "\n",
      "[1683 rows x 2 columns]\n"
     ]
    }
   ],
   "source": [
    "print(data)"
   ]
  },
  {
   "cell_type": "code",
   "execution_count": 52,
   "metadata": {},
   "outputs": [],
   "source": [
    "train=data[:1346]\n",
    "test=data[1346:]"
   ]
  },
  {
   "cell_type": "code",
   "execution_count": 53,
   "metadata": {},
   "outputs": [],
   "source": [
    "train.to_csv(\"bookprophet.train\", header=False, index=False)\n",
    "test.to_csv(\"bookprohpet.validation\", header=False, index=False)"
   ]
  },
  {
   "cell_type": "code",
   "execution_count": null,
   "metadata": {},
   "outputs": [],
   "source": []
  }
 ],
 "metadata": {
  "kernelspec": {
   "display_name": "conda_python3",
   "language": "python",
   "name": "conda_python3"
  }
 },
 "nbformat": 4,
 "nbformat_minor": 2
}
